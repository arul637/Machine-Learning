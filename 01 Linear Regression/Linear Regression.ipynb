{
 "cells": [
  {
   "cell_type": "markdown",
   "id": "4cead0d9",
   "metadata": {},
   "source": [
    "# Linear Regression\n",
    "\n",
    "*Linear regression is a statistical method used in data science and machine learning to predict the value of a variable based on the value of another variable.*"
   ]
  },
  {
   "cell_type": "code",
   "execution_count": 60,
   "id": "2e9cbc90",
   "metadata": {},
   "outputs": [],
   "source": [
    "# importing the modules\n",
    "import pandas as pd\n",
    "import numpy as np\n",
    "import matplotlib.pyplot as plt\n",
    "from sklearn.linear_model import LinearRegression    # importing Linear Regression model\n",
    "\n",
    "import warnings                                      # to ignore the warning messages\n",
    "warnings.filterwarnings('ignore')"
   ]
  },
  {
   "cell_type": "code",
   "execution_count": 61,
   "id": "2b2daf41",
   "metadata": {},
   "outputs": [
    {
     "data": {
      "text/html": [
       "<div>\n",
       "<style scoped>\n",
       "    .dataframe tbody tr th:only-of-type {\n",
       "        vertical-align: middle;\n",
       "    }\n",
       "\n",
       "    .dataframe tbody tr th {\n",
       "        vertical-align: top;\n",
       "    }\n",
       "\n",
       "    .dataframe thead th {\n",
       "        text-align: right;\n",
       "    }\n",
       "</style>\n",
       "<table border=\"1\" class=\"dataframe\">\n",
       "  <thead>\n",
       "    <tr style=\"text-align: right;\">\n",
       "      <th></th>\n",
       "      <th>year</th>\n",
       "      <th>per capita income (US$)</th>\n",
       "    </tr>\n",
       "  </thead>\n",
       "  <tbody>\n",
       "    <tr>\n",
       "      <th>0</th>\n",
       "      <td>1970</td>\n",
       "      <td>3399.299037</td>\n",
       "    </tr>\n",
       "    <tr>\n",
       "      <th>1</th>\n",
       "      <td>1971</td>\n",
       "      <td>3768.297935</td>\n",
       "    </tr>\n",
       "    <tr>\n",
       "      <th>2</th>\n",
       "      <td>1972</td>\n",
       "      <td>4251.175484</td>\n",
       "    </tr>\n",
       "    <tr>\n",
       "      <th>3</th>\n",
       "      <td>1973</td>\n",
       "      <td>4804.463248</td>\n",
       "    </tr>\n",
       "    <tr>\n",
       "      <th>4</th>\n",
       "      <td>1974</td>\n",
       "      <td>5576.514583</td>\n",
       "    </tr>\n",
       "  </tbody>\n",
       "</table>\n",
       "</div>"
      ],
      "text/plain": [
       "   year  per capita income (US$)\n",
       "0  1970              3399.299037\n",
       "1  1971              3768.297935\n",
       "2  1972              4251.175484\n",
       "3  1973              4804.463248\n",
       "4  1974              5576.514583"
      ]
     },
     "execution_count": 61,
     "metadata": {},
     "output_type": "execute_result"
    }
   ],
   "source": [
    "# loading the dataset\n",
    "data = pd.read_csv('cannada_house_price.csv')\n",
    "data.head()"
   ]
  },
  {
   "cell_type": "code",
   "execution_count": 62,
   "id": "940b8f09",
   "metadata": {},
   "outputs": [],
   "source": [
    "# splitting x and y for better visualization in plotting the graph\n",
    "x = np.array(data['year'])\n",
    "y = np.array(data['per capita income (US$)'])"
   ]
  },
  {
   "cell_type": "code",
   "execution_count": 63,
   "id": "ea05d2d8",
   "metadata": {},
   "outputs": [
    {
     "data": {
      "image/png": "[encoded data removed]",
      "text/plain": [
       "<Figure size 640x480 with 1 Axes>"
      ]
     },
     "metadata": {},
     "output_type": "display_data"
    }
   ],
   "source": [
    "# data visualization (creating the graph for given x and y)\n",
    "plt.title('cannada house prices')\n",
    "plt.xlabel('year', color='blue')\n",
    "plt.ylabel('price per capita (US-$)', color='blue')\n",
    "plt.scatter(x, y, marker='+', color='red')\n",
    "plt.show()"
   ]
  },
  {
   "cell_type": "markdown",
   "id": "93ff2ab8",
   "metadata": {},
   "source": [
    "According to this graph it is possible to plot the straight line, so then we get any price with corresponding year"
   ]
  },
  {
   "cell_type": "markdown",
   "id": "ddd2bd96",
   "metadata": {},
   "source": [
    "### steps involved in model creation, to predict price\n",
    "\n",
    "   - create the model object\n",
    "   - fit the model object\n",
    "   - predict the price for given year"
   ]
  },
  {
   "cell_type": "code",
   "execution_count": 64,
   "id": "ff409a56",
   "metadata": {},
   "outputs": [
    {
     "data": {
      "text/html": [
       "<style>#sk-container-id-5 {color: black;background-color: white;}#sk-container-id-5 pre{padding: 0;}#sk-container-id-5 div.sk-toggleable {background-color: white;}#sk-container-id-5 label.sk-toggleable__label {cursor: pointer;display: block;width: 100%;margin-bottom: 0;padding: 0.3em;box-sizing: border-box;text-align: center;}#sk-container-id-5 label.sk-toggleable__label-arrow:before {content: \"▸\";float: left;margin-right: 0.25em;color: #696969;}#sk-container-id-5 label.sk-toggleable__label-arrow:hover:before {color: black;}#sk-container-id-5 div.sk-estimator:hover label.sk-toggleable__label-arrow:before {color: black;}#sk-container-id-5 div.sk-toggleable__content {max-height: 0;max-width: 0;overflow: hidden;text-align: left;background-color: #f0f8ff;}#sk-container-id-5 div.sk-toggleable__content pre {margin: 0.2em;color: black;border-radius: 0.25em;background-color: #f0f8ff;}#sk-container-id-5 input.sk-toggleable__control:checked~div.sk-toggleable__content {max-height: 200px;max-width: 100%;overflow: auto;}#sk-container-id-5 input.sk-toggleable__control:checked~label.sk-toggleable__label-arrow:before {content: \"▾\";}#sk-container-id-5 div.sk-estimator input.sk-toggleable__control:checked~label.sk-toggleable__label {background-color: #d4ebff;}#sk-container-id-5 div.sk-label input.sk-toggleable__control:checked~label.sk-toggleable__label {background-color: #d4ebff;}#sk-container-id-5 input.sk-hidden--visually {border: 0;clip: rect(1px 1px 1px 1px);clip: rect(1px, 1px, 1px, 1px);height: 1px;margin: -1px;overflow: hidden;padding: 0;position: absolute;width: 1px;}#sk-container-id-5 div.sk-estimator {font-family: monospace;background-color: #f0f8ff;border: 1px dotted black;border-radius: 0.25em;box-sizing: border-box;margin-bottom: 0.5em;}#sk-container-id-5 div.sk-estimator:hover {background-color: #d4ebff;}#sk-container-id-5 div.sk-parallel-item::after {content: \"\";width: 100%;border-bottom: 1px solid gray;flex-grow: 1;}#sk-container-id-5 div.sk-label:hover label.sk-toggleable__label {background-color: #d4ebff;}#sk-container-id-5 div.sk-serial::before {content: \"\";position: absolute;border-left: 1px solid gray;box-sizing: border-box;top: 0;bottom: 0;left: 50%;z-index: 0;}#sk-container-id-5 div.sk-serial {display: flex;flex-direction: column;align-items: center;background-color: white;padding-right: 0.2em;padding-left: 0.2em;position: relative;}#sk-container-id-5 div.sk-item {position: relative;z-index: 1;}#sk-container-id-5 div.sk-parallel {display: flex;align-items: stretch;justify-content: center;background-color: white;position: relative;}#sk-container-id-5 div.sk-item::before, #sk-container-id-5 div.sk-parallel-item::before {content: \"\";position: absolute;border-left: 1px solid gray;box-sizing: border-box;top: 0;bottom: 0;left: 50%;z-index: -1;}#sk-container-id-5 div.sk-parallel-item {display: flex;flex-direction: column;z-index: 1;position: relative;background-color: white;}#sk-container-id-5 div.sk-parallel-item:first-child::after {align-self: flex-end;width: 50%;}#sk-container-id-5 div.sk-parallel-item:last-child::after {align-self: flex-start;width: 50%;}#sk-container-id-5 div.sk-parallel-item:only-child::after {width: 0;}#sk-container-id-5 div.sk-dashed-wrapped {border: 1px dashed gray;margin: 0 0.4em 0.5em 0.4em;box-sizing: border-box;padding-bottom: 0.4em;background-color: white;}#sk-container-id-5 div.sk-label label {font-family: monospace;font-weight: bold;display: inline-block;line-height: 1.2em;}#sk-container-id-5 div.sk-label-container {text-align: center;}#sk-container-id-5 div.sk-container {/* jupyter's `normalize.less` sets `[hidden] { display: none; }` but bootstrap.min.css set `[hidden] { display: none !important; }` so we also need the `!important` here to be able to override the default hidden behavior on the sphinx rendered scikit-learn.org. See: https://github.com/scikit-learn/scikit-learn/issues/21755 */display: inline-block !important;position: relative;}#sk-container-id-5 div.sk-text-repr-fallback {display: none;}</style><div id=\"sk-container-id-5\" class=\"sk-top-container\"><div class=\"sk-text-repr-fallback\"><pre>LinearRegression()</pre><b>In a Jupyter environment, please rerun this cell to show the HTML representation or trust the notebook. <br />On GitHub, the HTML representation is unable to render, please try loading this page with nbviewer.org.</b></div><div class=\"sk-container\" hidden><div class=\"sk-item\"><div class=\"sk-estimator sk-toggleable\"><input class=\"sk-toggleable__control sk-hidden--visually\" id=\"sk-estimator-id-5\" type=\"checkbox\" checked><label for=\"sk-estimator-id-5\" class=\"sk-toggleable__label sk-toggleable__label-arrow\">LinearRegression</label><div class=\"sk-toggleable__content\"><pre>LinearRegression()</pre></div></div></div></div></div>"
      ],
      "text/plain": [
       "LinearRegression()"
      ]
     },
     "execution_count": 64,
     "metadata": {},
     "output_type": "execute_result"
    }
   ],
   "source": [
    "# creating the model\n",
    "linear_regression = LinearRegression()\n",
    "\n",
    "# fit the data into the model\n",
    "linear_regression.fit(data[['year']], data[['per capita income (US$)']])"
   ]
  },
  {
   "cell_type": "code",
   "execution_count": 65,
   "id": "831d5273",
   "metadata": {},
   "outputs": [
    {
     "data": {
      "text/plain": [
       "array([[41288.69409442]])"
      ]
     },
     "execution_count": 65,
     "metadata": {},
     "output_type": "execute_result"
    }
   ],
   "source": [
    "linear_regression.predict([[2020]])"
   ]
  },
  {
   "cell_type": "code",
   "execution_count": 66,
   "id": "05d524d1",
   "metadata": {},
   "outputs": [
    {
     "data": {
      "image/png": "[encoded data removed]",
      "text/plain": [
       "<Figure size 640x480 with 1 Axes>"
      ]
     },
     "metadata": {},
     "output_type": "display_data"
    }
   ],
   "source": [
    "plt.title('cannada house prices')\n",
    "plt.xlabel('year', color='blue')\n",
    "plt.ylabel('price per capita (US-$)', color='blue')\n",
    "plt.scatter(x, y, marker='+', color='red')\n",
    "plt.plot(x, linear_regression.predict(np.array([x]).reshape(-1, 1)), color='blue', alpha=0.7)\n",
    "plt.show()"
   ]
  },
  {
   "cell_type": "markdown",
   "id": "8926c285",
   "metadata": {},
   "source": [
    "### Maths behind Linear Regression\n",
    "\n",
    "as we all know the linear equation \n",
    "    \n",
    "   - **`y = mx + c`**\n",
    "   \n",
    "   `m` = slope\n",
    "   `c` = intercept"
   ]
  },
  {
   "cell_type": "code",
   "execution_count": 67,
   "id": "7607627c",
   "metadata": {},
   "outputs": [],
   "source": [
    "slope = linear_regression.coef_\n",
    "intercept = linear_regression.intercept_"
   ]
  },
  {
   "cell_type": "markdown",
   "id": "80e4ca5b",
   "metadata": {},
   "source": [
    "### Question:\n",
    "   \n",
    "   1. predict the house price in year 2020 and 2023"
   ]
  },
  {
   "cell_type": "markdown",
   "id": "80577a26",
   "metadata": {},
   "source": [
    "#### 1. using traditional mathematics"
   ]
  },
  {
   "cell_type": "code",
   "execution_count": 68,
   "id": "71073d91",
   "metadata": {},
   "outputs": [
    {
     "name": "stdout",
     "output_type": "stream",
     "text": [
      "house price in year 2020 is [[41288.69409442]]\n",
      "house price in year 2023 is [[43774.08932009]]\n"
     ]
    }
   ],
   "source": [
    "year_2020 = slope*2020 + intercept\n",
    "year_2023 = slope*2023 + intercept\n",
    "\n",
    "print(f\"house price in year 2020 is {year_2020}\")\n",
    "print(f\"house price in year 2023 is {year_2023}\")"
   ]
  },
  {
   "cell_type": "markdown",
   "id": "ad9cdf44",
   "metadata": {},
   "source": [
    "#### 2. using machine learning model"
   ]
  },
  {
   "cell_type": "code",
   "execution_count": 70,
   "id": "39beda98",
   "metadata": {},
   "outputs": [
    {
     "name": "stdout",
     "output_type": "stream",
     "text": [
      "house price in year 2020 is [[41288.69409442]]\n",
      "house price in year 2023 is [[43774.08932009]]\n"
     ]
    }
   ],
   "source": [
    "year_2020 = linear_regression.predict(np.array([2020]).reshape(-1, 1))\n",
    "year_2023 = linear_regression.predict(np.array([2023]).reshape(-1, 1))\n",
    "\n",
    "print(f\"house price in year 2020 is {year_2020}\")\n",
    "print(f\"house price in year 2023 is {year_2023}\")"
   ]
  },
  {
   "cell_type": "markdown",
   "id": "52a18822",
   "metadata": {},
   "source": [
    "*both traditional method and machine learning method produce the same result*"
   ]
  },
  {
   "cell_type": "code",
   "execution_count": null,
   "id": "7f82d8dc",
   "metadata": {},
   "outputs": [],
   "source": []
  }
 ],
 "metadata": {
  "kernelspec": {
   "display_name": "Python 3 (ipykernel)",
   "language": "python",
   "name": "python3"
  },
  "language_info": {
   "codemirror_mode": {
    "name": "ipython",
    "version": 3
   },
   "file_extension": ".py",
   "mimetype": "text/x-python",
   "name": "python",
   "nbconvert_exporter": "python",
   "pygments_lexer": "ipython3",
   "version": "3.11.3"
  }
 },
 "nbformat": 4,
 "nbformat_minor": 5
}
