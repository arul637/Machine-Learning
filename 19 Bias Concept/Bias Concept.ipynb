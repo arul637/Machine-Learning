{
 "cells": [
  {
   "cell_type": "markdown",
   "id": "86f47757",
   "metadata": {},
   "source": [
    "<h1 style='color: red'>Bias</h1>\n",
    "\n",
    "<br>\n",
    "\n",
    "<p>Bias is how the predicted datapoints are socre is near to the truth value,</p>\n",
    "\n",
    "<h1 style='color: red'>Variance</h1>\n",
    "\n",
    "<br>\n",
    "\n",
    "<p>Variance is how the predicted datapoints are scattered away from each other</p>"
   ]
  },
  {
   "cell_type": "markdown",
   "id": "b2a14f54",
   "metadata": {},
   "source": [
    "<div align='center'>\n",
    "    <img src='1.png'>\n",
    "</div>"
   ]
  },
  {
   "cell_type": "markdown",
   "id": "efabac1c",
   "metadata": {},
   "source": [
    "## Overfit"
   ]
  },
  {
   "cell_type": "markdown",
   "id": "2d0c4ebf",
   "metadata": {},
   "source": [
    "<div align='center'>\n",
    "    <img src='2.png'>\n",
    "</div>"
   ]
  },
  {
   "cell_type": "markdown",
   "id": "b2e06ced",
   "metadata": {},
   "source": [
    "for the over fit the training error is low, and testing error will high, the gray lines represent the error, when we calculate the mean we get the high bias, and all the datapoints are scattered eachother"
   ]
  },
  {
   "cell_type": "markdown",
   "id": "5fe3165c",
   "metadata": {},
   "source": [
    "## Underfit"
   ]
  },
  {
   "cell_type": "markdown",
   "id": "82159a82",
   "metadata": {},
   "source": [
    "<div align='center'>\n",
    "    <img src='3.png'>\n",
    "</div>"
   ]
  },
  {
   "cell_type": "markdown",
   "id": "831f74c5",
   "metadata": {},
   "source": [
    "by using the linear regresstion model for underfitting the dataset, which means the testing score and training score will less,"
   ]
  },
  {
   "cell_type": "markdown",
   "id": "be25229b",
   "metadata": {},
   "source": [
    "## balance fit"
   ]
  },
  {
   "cell_type": "markdown",
   "id": "5574c165",
   "metadata": {},
   "source": [
    "<div align='center'>\n",
    "    <img src='4.png'>\n",
    "</div>"
   ]
  },
  {
   "cell_type": "markdown",
   "id": "9cd65524",
   "metadata": {},
   "source": [
    "in the balance fit, the training and testing error is low and score is high compared to other,"
   ]
  },
  {
   "cell_type": "markdown",
   "id": "9039b3b0",
   "metadata": {},
   "source": [
    "## Conclusion"
   ]
  },
  {
   "cell_type": "markdown",
   "id": "c04adc9d",
   "metadata": {},
   "source": [
    "<div align='center'>\n",
    "    <img src='5.png'>\n",
    "</div>"
   ]
  },
  {
   "cell_type": "code",
   "execution_count": null,
   "id": "9ad022ff",
   "metadata": {},
   "outputs": [],
   "source": []
  }
 ],
 "metadata": {
  "kernelspec": {
   "display_name": "Python 3 (ipykernel)",
   "language": "python",
   "name": "python3"
  },
  "language_info": {
   "codemirror_mode": {
    "name": "ipython",
    "version": 3
   },
   "file_extension": ".py",
   "mimetype": "text/x-python",
   "name": "python",
   "nbconvert_exporter": "python",
   "pygments_lexer": "ipython3",
   "version": "3.11.3"
  }
 },
 "nbformat": 4,
 "nbformat_minor": 5
}
