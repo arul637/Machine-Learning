{
 "cells": [
  {
   "cell_type": "markdown",
   "id": "898bee97",
   "metadata": {},
   "source": [
    "## RandomizedSearchCV "
   ]
  },
  {
   "cell_type": "markdown",
   "id": "f7315c51",
   "metadata": {},
   "source": [
    "This works similar to GridSearchCV, but the difference, when the complex dataset, it will occur more than 100's 1000's numbers of `combination` to reduce the number of combination we will require the random combination to check the tuning, so we introduced the `RandomSearchCV` hypertuning "
   ]
  },
  {
   "cell_type": "code",
   "execution_count": 13,
   "id": "34d2ab9a",
   "metadata": {},
   "outputs": [],
   "source": [
    "# importing the modules\n",
    "from sklearn.svm import SVC\n",
    "from sklearn.model_selection import RandomizedSearchCV\n",
    "from sklearn.datasets import load_iris\n",
    "\n",
    "import pandas as pd"
   ]
  },
  {
   "cell_type": "code",
   "execution_count": 2,
   "id": "73667a99",
   "metadata": {},
   "outputs": [],
   "source": [
    "# load the dataset\n",
    "data = load_iris()"
   ]
  },
  {
   "cell_type": "code",
   "execution_count": 3,
   "id": "bd957787",
   "metadata": {},
   "outputs": [
    {
     "data": {
      "text/plain": [
       "['DESCR',\n",
       " 'data',\n",
       " 'data_module',\n",
       " 'feature_names',\n",
       " 'filename',\n",
       " 'frame',\n",
       " 'target',\n",
       " 'target_names']"
      ]
     },
     "execution_count": 3,
     "metadata": {},
     "output_type": "execute_result"
    }
   ],
   "source": [
    "dir(data)"
   ]
  },
  {
   "cell_type": "code",
   "execution_count": 10,
   "id": "d552f693",
   "metadata": {},
   "outputs": [],
   "source": [
    "RSCV = RandomizedSearchCV(SVC(gamma='auto'), {\n",
    "    'C': [i for i in range(1, 101, 5)],\n",
    "    'kernel': ['rbf', 'linear']\n",
    "}, cv=5, n_iter=30)"
   ]
  },
  {
   "cell_type": "code",
   "execution_count": 11,
   "id": "a6ebf989",
   "metadata": {},
   "outputs": [
    {
     "data": {
      "text/html": [
       "<style>#sk-container-id-4 {color: black;background-color: white;}#sk-container-id-4 pre{padding: 0;}#sk-container-id-4 div.sk-toggleable {background-color: white;}#sk-container-id-4 label.sk-toggleable__label {cursor: pointer;display: block;width: 100%;margin-bottom: 0;padding: 0.3em;box-sizing: border-box;text-align: center;}#sk-container-id-4 label.sk-toggleable__label-arrow:before {content: \"▸\";float: left;margin-right: 0.25em;color: #696969;}#sk-container-id-4 label.sk-toggleable__label-arrow:hover:before {color: black;}#sk-container-id-4 div.sk-estimator:hover label.sk-toggleable__label-arrow:before {color: black;}#sk-container-id-4 div.sk-toggleable__content {max-height: 0;max-width: 0;overflow: hidden;text-align: left;background-color: #f0f8ff;}#sk-container-id-4 div.sk-toggleable__content pre {margin: 0.2em;color: black;border-radius: 0.25em;background-color: #f0f8ff;}#sk-container-id-4 input.sk-toggleable__control:checked~div.sk-toggleable__content {max-height: 200px;max-width: 100%;overflow: auto;}#sk-container-id-4 input.sk-toggleable__control:checked~label.sk-toggleable__label-arrow:before {content: \"▾\";}#sk-container-id-4 div.sk-estimator input.sk-toggleable__control:checked~label.sk-toggleable__label {background-color: #d4ebff;}#sk-container-id-4 div.sk-label input.sk-toggleable__control:checked~label.sk-toggleable__label {background-color: #d4ebff;}#sk-container-id-4 input.sk-hidden--visually {border: 0;clip: rect(1px 1px 1px 1px);clip: rect(1px, 1px, 1px, 1px);height: 1px;margin: -1px;overflow: hidden;padding: 0;position: absolute;width: 1px;}#sk-container-id-4 div.sk-estimator {font-family: monospace;background-color: #f0f8ff;border: 1px dotted black;border-radius: 0.25em;box-sizing: border-box;margin-bottom: 0.5em;}#sk-container-id-4 div.sk-estimator:hover {background-color: #d4ebff;}#sk-container-id-4 div.sk-parallel-item::after {content: \"\";width: 100%;border-bottom: 1px solid gray;flex-grow: 1;}#sk-container-id-4 div.sk-label:hover label.sk-toggleable__label {background-color: #d4ebff;}#sk-container-id-4 div.sk-serial::before {content: \"\";position: absolute;border-left: 1px solid gray;box-sizing: border-box;top: 0;bottom: 0;left: 50%;z-index: 0;}#sk-container-id-4 div.sk-serial {display: flex;flex-direction: column;align-items: center;background-color: white;padding-right: 0.2em;padding-left: 0.2em;position: relative;}#sk-container-id-4 div.sk-item {position: relative;z-index: 1;}#sk-container-id-4 div.sk-parallel {display: flex;align-items: stretch;justify-content: center;background-color: white;position: relative;}#sk-container-id-4 div.sk-item::before, #sk-container-id-4 div.sk-parallel-item::before {content: \"\";position: absolute;border-left: 1px solid gray;box-sizing: border-box;top: 0;bottom: 0;left: 50%;z-index: -1;}#sk-container-id-4 div.sk-parallel-item {display: flex;flex-direction: column;z-index: 1;position: relative;background-color: white;}#sk-container-id-4 div.sk-parallel-item:first-child::after {align-self: flex-end;width: 50%;}#sk-container-id-4 div.sk-parallel-item:last-child::after {align-self: flex-start;width: 50%;}#sk-container-id-4 div.sk-parallel-item:only-child::after {width: 0;}#sk-container-id-4 div.sk-dashed-wrapped {border: 1px dashed gray;margin: 0 0.4em 0.5em 0.4em;box-sizing: border-box;padding-bottom: 0.4em;background-color: white;}#sk-container-id-4 div.sk-label label {font-family: monospace;font-weight: bold;display: inline-block;line-height: 1.2em;}#sk-container-id-4 div.sk-label-container {text-align: center;}#sk-container-id-4 div.sk-container {/* jupyter's `normalize.less` sets `[hidden] { display: none; }` but bootstrap.min.css set `[hidden] { display: none !important; }` so we also need the `!important` here to be able to override the default hidden behavior on the sphinx rendered scikit-learn.org. See: https://github.com/scikit-learn/scikit-learn/issues/21755 */display: inline-block !important;position: relative;}#sk-container-id-4 div.sk-text-repr-fallback {display: none;}</style><div id=\"sk-container-id-4\" class=\"sk-top-container\"><div class=\"sk-text-repr-fallback\"><pre>RandomizedSearchCV(cv=5, estimator=SVC(gamma=&#x27;auto&#x27;), n_iter=30,\n",
       "                   param_distributions={&#x27;C&#x27;: [1, 6, 11, 16, 21, 26, 31, 36, 41,\n",
       "                                              46, 51, 56, 61, 66, 71, 76, 81,\n",
       "                                              86, 91, 96],\n",
       "                                        &#x27;kernel&#x27;: [&#x27;rbf&#x27;, &#x27;linear&#x27;]})</pre><b>In a Jupyter environment, please rerun this cell to show the HTML representation or trust the notebook. <br />On GitHub, the HTML representation is unable to render, please try loading this page with nbviewer.org.</b></div><div class=\"sk-container\" hidden><div class=\"sk-item sk-dashed-wrapped\"><div class=\"sk-label-container\"><div class=\"sk-label sk-toggleable\"><input class=\"sk-toggleable__control sk-hidden--visually\" id=\"sk-estimator-id-10\" type=\"checkbox\" ><label for=\"sk-estimator-id-10\" class=\"sk-toggleable__label sk-toggleable__label-arrow\">RandomizedSearchCV</label><div class=\"sk-toggleable__content\"><pre>RandomizedSearchCV(cv=5, estimator=SVC(gamma=&#x27;auto&#x27;), n_iter=30,\n",
       "                   param_distributions={&#x27;C&#x27;: [1, 6, 11, 16, 21, 26, 31, 36, 41,\n",
       "                                              46, 51, 56, 61, 66, 71, 76, 81,\n",
       "                                              86, 91, 96],\n",
       "                                        &#x27;kernel&#x27;: [&#x27;rbf&#x27;, &#x27;linear&#x27;]})</pre></div></div></div><div class=\"sk-parallel\"><div class=\"sk-parallel-item\"><div class=\"sk-item\"><div class=\"sk-label-container\"><div class=\"sk-label sk-toggleable\"><input class=\"sk-toggleable__control sk-hidden--visually\" id=\"sk-estimator-id-11\" type=\"checkbox\" ><label for=\"sk-estimator-id-11\" class=\"sk-toggleable__label sk-toggleable__label-arrow\">estimator: SVC</label><div class=\"sk-toggleable__content\"><pre>SVC(gamma=&#x27;auto&#x27;)</pre></div></div></div><div class=\"sk-serial\"><div class=\"sk-item\"><div class=\"sk-estimator sk-toggleable\"><input class=\"sk-toggleable__control sk-hidden--visually\" id=\"sk-estimator-id-12\" type=\"checkbox\" ><label for=\"sk-estimator-id-12\" class=\"sk-toggleable__label sk-toggleable__label-arrow\">SVC</label><div class=\"sk-toggleable__content\"><pre>SVC(gamma=&#x27;auto&#x27;)</pre></div></div></div></div></div></div></div></div></div></div>"
      ],
      "text/plain": [
       "RandomizedSearchCV(cv=5, estimator=SVC(gamma='auto'), n_iter=30,\n",
       "                   param_distributions={'C': [1, 6, 11, 16, 21, 26, 31, 36, 41,\n",
       "                                              46, 51, 56, 61, 66, 71, 76, 81,\n",
       "                                              86, 91, 96],\n",
       "                                        'kernel': ['rbf', 'linear']})"
      ]
     },
     "execution_count": 11,
     "metadata": {},
     "output_type": "execute_result"
    }
   ],
   "source": [
    "RSCV.fit(data.data, data.target)"
   ]
  },
  {
   "cell_type": "code",
   "execution_count": 12,
   "id": "ac93f233",
   "metadata": {
    "scrolled": false
   },
   "outputs": [
    {
     "data": {
      "text/plain": [
       "{'mean_fit_time': array([0.001999  , 0.00065928, 0.00314751, 0.        , 0.        ,\n",
       "        0.        , 0.        , 0.        , 0.        , 0.00312419,\n",
       "        0.        , 0.        , 0.        , 0.        , 0.        ,\n",
       "        0.        , 0.00312519, 0.        , 0.00310102, 0.        ,\n",
       "        0.00312495, 0.        , 0.        , 0.        , 0.        ,\n",
       "        0.00312462, 0.        , 0.00312505, 0.00012379, 0.        ]),\n",
       " 'std_fit_time': array([0.00058857, 0.00085687, 0.00629501, 0.        , 0.        ,\n",
       "        0.        , 0.        , 0.        , 0.        , 0.00624838,\n",
       "        0.        , 0.        , 0.        , 0.        , 0.        ,\n",
       "        0.        , 0.00625038, 0.        , 0.00620203, 0.        ,\n",
       "        0.0062499 , 0.        , 0.        , 0.        , 0.        ,\n",
       "        0.00624924, 0.        , 0.0062501 , 0.00024757, 0.        ]),\n",
       " 'mean_score_time': array([0.00125756, 0.00039401, 0.        , 0.        , 0.        ,\n",
       "        0.00312414, 0.        , 0.        , 0.        , 0.        ,\n",
       "        0.        , 0.        , 0.        , 0.        , 0.        ,\n",
       "        0.        , 0.        , 0.        , 0.        , 0.        ,\n",
       "        0.00128236, 0.00192423, 0.00315142, 0.        , 0.        ,\n",
       "        0.        , 0.        , 0.        , 0.        , 0.00230212]),\n",
       " 'std_score_time': array([0.00042548, 0.00078802, 0.        , 0.        , 0.        ,\n",
       "        0.00624828, 0.        , 0.        , 0.        , 0.        ,\n",
       "        0.        , 0.        , 0.        , 0.        , 0.        ,\n",
       "        0.        , 0.        , 0.        , 0.        , 0.        ,\n",
       "        0.00198474, 0.00384846, 0.00630283, 0.        , 0.        ,\n",
       "        0.        , 0.        , 0.        , 0.        , 0.00460424]),\n",
       " 'param_kernel': masked_array(data=['rbf', 'linear', 'linear', 'linear', 'linear', 'rbf',\n",
       "                    'rbf', 'linear', 'rbf', 'rbf', 'linear', 'rbf',\n",
       "                    'linear', 'rbf', 'rbf', 'linear', 'rbf', 'linear',\n",
       "                    'rbf', 'linear', 'rbf', 'linear', 'linear', 'rbf',\n",
       "                    'linear', 'linear', 'rbf', 'linear', 'rbf', 'rbf'],\n",
       "              mask=[False, False, False, False, False, False, False, False,\n",
       "                    False, False, False, False, False, False, False, False,\n",
       "                    False, False, False, False, False, False, False, False,\n",
       "                    False, False, False, False, False, False],\n",
       "        fill_value='?',\n",
       "             dtype=object),\n",
       " 'param_C': masked_array(data=[11, 1, 66, 6, 71, 86, 46, 51, 41, 81, 61, 51, 56, 31,\n",
       "                    16, 96, 6, 86, 1, 31, 21, 21, 26, 26, 81, 36, 91, 46,\n",
       "                    96, 36],\n",
       "              mask=[False, False, False, False, False, False, False, False,\n",
       "                    False, False, False, False, False, False, False, False,\n",
       "                    False, False, False, False, False, False, False, False,\n",
       "                    False, False, False, False, False, False],\n",
       "        fill_value='?',\n",
       "             dtype=object),\n",
       " 'params': [{'kernel': 'rbf', 'C': 11},\n",
       "  {'kernel': 'linear', 'C': 1},\n",
       "  {'kernel': 'linear', 'C': 66},\n",
       "  {'kernel': 'linear', 'C': 6},\n",
       "  {'kernel': 'linear', 'C': 71},\n",
       "  {'kernel': 'rbf', 'C': 86},\n",
       "  {'kernel': 'rbf', 'C': 46},\n",
       "  {'kernel': 'linear', 'C': 51},\n",
       "  {'kernel': 'rbf', 'C': 41},\n",
       "  {'kernel': 'rbf', 'C': 81},\n",
       "  {'kernel': 'linear', 'C': 61},\n",
       "  {'kernel': 'rbf', 'C': 51},\n",
       "  {'kernel': 'linear', 'C': 56},\n",
       "  {'kernel': 'rbf', 'C': 31},\n",
       "  {'kernel': 'rbf', 'C': 16},\n",
       "  {'kernel': 'linear', 'C': 96},\n",
       "  {'kernel': 'rbf', 'C': 6},\n",
       "  {'kernel': 'linear', 'C': 86},\n",
       "  {'kernel': 'rbf', 'C': 1},\n",
       "  {'kernel': 'linear', 'C': 31},\n",
       "  {'kernel': 'rbf', 'C': 21},\n",
       "  {'kernel': 'linear', 'C': 21},\n",
       "  {'kernel': 'linear', 'C': 26},\n",
       "  {'kernel': 'rbf', 'C': 26},\n",
       "  {'kernel': 'linear', 'C': 81},\n",
       "  {'kernel': 'linear', 'C': 36},\n",
       "  {'kernel': 'rbf', 'C': 91},\n",
       "  {'kernel': 'linear', 'C': 46},\n",
       "  {'kernel': 'rbf', 'C': 96},\n",
       "  {'kernel': 'rbf', 'C': 36}],\n",
       " 'split0_test_score': array([0.96666667, 0.96666667, 1.        , 1.        , 1.        ,\n",
       "        1.        , 1.        , 1.        , 1.        , 1.        ,\n",
       "        1.        , 1.        , 1.        , 0.96666667, 0.96666667,\n",
       "        1.        , 0.96666667, 1.        , 0.96666667, 1.        ,\n",
       "        0.96666667, 1.        , 1.        , 0.96666667, 1.        ,\n",
       "        1.        , 1.        , 1.        , 1.        , 1.        ]),\n",
       " 'split1_test_score': array([1.        , 1.        , 1.        , 1.        , 1.        ,\n",
       "        0.96666667, 0.96666667, 1.        , 0.96666667, 0.96666667,\n",
       "        1.        , 0.96666667, 1.        , 1.        , 1.        ,\n",
       "        1.        , 1.        , 1.        , 1.        , 1.        ,\n",
       "        1.        , 1.        , 1.        , 1.        , 1.        ,\n",
       "        1.        , 0.96666667, 1.        , 0.96666667, 1.        ]),\n",
       " 'split2_test_score': array([0.96666667, 0.96666667, 0.9       , 0.9       , 0.9       ,\n",
       "        0.9       , 0.9       , 0.9       , 0.9       , 0.9       ,\n",
       "        0.9       , 0.9       , 0.9       , 0.9       , 0.93333333,\n",
       "        0.9       , 0.96666667, 0.9       , 0.96666667, 0.9       ,\n",
       "        0.9       , 0.9       , 0.9       , 0.9       , 0.9       ,\n",
       "        0.9       , 0.9       , 0.9       , 0.9       , 0.9       ]),\n",
       " 'split3_test_score': array([0.96666667, 0.96666667, 0.93333333, 0.96666667, 0.93333333,\n",
       "        0.93333333, 0.93333333, 0.9       , 0.93333333, 0.93333333,\n",
       "        0.9       , 0.93333333, 0.93333333, 0.93333333, 0.96666667,\n",
       "        0.93333333, 0.96666667, 0.93333333, 0.96666667, 0.9       ,\n",
       "        0.96666667, 0.93333333, 0.9       , 0.96666667, 0.93333333,\n",
       "        0.9       , 0.93333333, 0.93333333, 0.93333333, 0.93333333]),\n",
       " 'split4_test_score': array([1., 1., 1., 1., 1., 1., 1., 1., 1., 1., 1., 1., 1., 1., 1., 1., 1.,\n",
       "        1., 1., 1., 1., 1., 1., 1., 1., 1., 1., 1., 1., 1.]),\n",
       " 'mean_test_score': array([0.98      , 0.98      , 0.96666667, 0.97333333, 0.96666667,\n",
       "        0.96      , 0.96      , 0.96      , 0.96      , 0.96      ,\n",
       "        0.96      , 0.96      , 0.96666667, 0.96      , 0.97333333,\n",
       "        0.96666667, 0.98      , 0.96666667, 0.98      , 0.96      ,\n",
       "        0.96666667, 0.96666667, 0.96      , 0.96666667, 0.96666667,\n",
       "        0.96      , 0.96      , 0.96666667, 0.96      , 0.96666667]),\n",
       " 'std_test_score': array([0.01632993, 0.01632993, 0.0421637 , 0.03887301, 0.0421637 ,\n",
       "        0.03887301, 0.03887301, 0.04898979, 0.03887301, 0.03887301,\n",
       "        0.04898979, 0.03887301, 0.0421637 , 0.03887301, 0.02494438,\n",
       "        0.0421637 , 0.01632993, 0.0421637 , 0.01632993, 0.04898979,\n",
       "        0.03651484, 0.0421637 , 0.04898979, 0.03651484, 0.0421637 ,\n",
       "        0.04898979, 0.03887301, 0.0421637 , 0.03887301, 0.0421637 ]),\n",
       " 'rank_test_score': array([ 1,  1,  9,  5,  9, 18, 18, 18, 18, 18, 18, 18,  9, 18,  5,  9,  1,\n",
       "         9,  1, 18,  7,  9, 18,  7,  9, 18, 18,  9, 18,  9])}"
      ]
     },
     "execution_count": 12,
     "metadata": {},
     "output_type": "execute_result"
    }
   ],
   "source": [
    "RSCV.cv_results_"
   ]
  },
  {
   "cell_type": "code",
   "execution_count": 14,
   "id": "5b67b53c",
   "metadata": {},
   "outputs": [],
   "source": [
    "df = pd.DataFrame(RSCV.cv_results_)"
   ]
  },
  {
   "cell_type": "code",
   "execution_count": 16,
   "id": "e21ea197",
   "metadata": {},
   "outputs": [
    {
     "data": {
      "text/html": [
       "<div>\n",
       "<style scoped>\n",
       "    .dataframe tbody tr th:only-of-type {\n",
       "        vertical-align: middle;\n",
       "    }\n",
       "\n",
       "    .dataframe tbody tr th {\n",
       "        vertical-align: top;\n",
       "    }\n",
       "\n",
       "    .dataframe thead th {\n",
       "        text-align: right;\n",
       "    }\n",
       "</style>\n",
       "<table border=\"1\" class=\"dataframe\">\n",
       "  <thead>\n",
       "    <tr style=\"text-align: right;\">\n",
       "      <th></th>\n",
       "      <th>mean_fit_time</th>\n",
       "      <th>std_fit_time</th>\n",
       "      <th>mean_score_time</th>\n",
       "      <th>std_score_time</th>\n",
       "      <th>param_kernel</th>\n",
       "      <th>param_C</th>\n",
       "      <th>params</th>\n",
       "      <th>split0_test_score</th>\n",
       "      <th>split1_test_score</th>\n",
       "      <th>split2_test_score</th>\n",
       "      <th>split3_test_score</th>\n",
       "      <th>split4_test_score</th>\n",
       "      <th>mean_test_score</th>\n",
       "      <th>std_test_score</th>\n",
       "      <th>rank_test_score</th>\n",
       "    </tr>\n",
       "  </thead>\n",
       "  <tbody>\n",
       "    <tr>\n",
       "      <th>0</th>\n",
       "      <td>0.001999</td>\n",
       "      <td>0.000589</td>\n",
       "      <td>0.001258</td>\n",
       "      <td>0.000425</td>\n",
       "      <td>rbf</td>\n",
       "      <td>11</td>\n",
       "      <td>{'kernel': 'rbf', 'C': 11}</td>\n",
       "      <td>0.966667</td>\n",
       "      <td>1.0</td>\n",
       "      <td>0.966667</td>\n",
       "      <td>0.966667</td>\n",
       "      <td>1.0</td>\n",
       "      <td>0.980000</td>\n",
       "      <td>0.016330</td>\n",
       "      <td>1</td>\n",
       "    </tr>\n",
       "    <tr>\n",
       "      <th>1</th>\n",
       "      <td>0.000659</td>\n",
       "      <td>0.000857</td>\n",
       "      <td>0.000394</td>\n",
       "      <td>0.000788</td>\n",
       "      <td>linear</td>\n",
       "      <td>1</td>\n",
       "      <td>{'kernel': 'linear', 'C': 1}</td>\n",
       "      <td>0.966667</td>\n",
       "      <td>1.0</td>\n",
       "      <td>0.966667</td>\n",
       "      <td>0.966667</td>\n",
       "      <td>1.0</td>\n",
       "      <td>0.980000</td>\n",
       "      <td>0.016330</td>\n",
       "      <td>1</td>\n",
       "    </tr>\n",
       "    <tr>\n",
       "      <th>2</th>\n",
       "      <td>0.003148</td>\n",
       "      <td>0.006295</td>\n",
       "      <td>0.000000</td>\n",
       "      <td>0.000000</td>\n",
       "      <td>linear</td>\n",
       "      <td>66</td>\n",
       "      <td>{'kernel': 'linear', 'C': 66}</td>\n",
       "      <td>1.000000</td>\n",
       "      <td>1.0</td>\n",
       "      <td>0.900000</td>\n",
       "      <td>0.933333</td>\n",
       "      <td>1.0</td>\n",
       "      <td>0.966667</td>\n",
       "      <td>0.042164</td>\n",
       "      <td>9</td>\n",
       "    </tr>\n",
       "    <tr>\n",
       "      <th>3</th>\n",
       "      <td>0.000000</td>\n",
       "      <td>0.000000</td>\n",
       "      <td>0.000000</td>\n",
       "      <td>0.000000</td>\n",
       "      <td>linear</td>\n",
       "      <td>6</td>\n",
       "      <td>{'kernel': 'linear', 'C': 6}</td>\n",
       "      <td>1.000000</td>\n",
       "      <td>1.0</td>\n",
       "      <td>0.900000</td>\n",
       "      <td>0.966667</td>\n",
       "      <td>1.0</td>\n",
       "      <td>0.973333</td>\n",
       "      <td>0.038873</td>\n",
       "      <td>5</td>\n",
       "    </tr>\n",
       "    <tr>\n",
       "      <th>4</th>\n",
       "      <td>0.000000</td>\n",
       "      <td>0.000000</td>\n",
       "      <td>0.000000</td>\n",
       "      <td>0.000000</td>\n",
       "      <td>linear</td>\n",
       "      <td>71</td>\n",
       "      <td>{'kernel': 'linear', 'C': 71}</td>\n",
       "      <td>1.000000</td>\n",
       "      <td>1.0</td>\n",
       "      <td>0.900000</td>\n",
       "      <td>0.933333</td>\n",
       "      <td>1.0</td>\n",
       "      <td>0.966667</td>\n",
       "      <td>0.042164</td>\n",
       "      <td>9</td>\n",
       "    </tr>\n",
       "  </tbody>\n",
       "</table>\n",
       "</div>"
      ],
      "text/plain": [
       "   mean_fit_time  std_fit_time  mean_score_time  std_score_time param_kernel  \\\n",
       "0       0.001999      0.000589         0.001258        0.000425          rbf   \n",
       "1       0.000659      0.000857         0.000394        0.000788       linear   \n",
       "2       0.003148      0.006295         0.000000        0.000000       linear   \n",
       "3       0.000000      0.000000         0.000000        0.000000       linear   \n",
       "4       0.000000      0.000000         0.000000        0.000000       linear   \n",
       "\n",
       "  param_C                         params  split0_test_score  \\\n",
       "0      11     {'kernel': 'rbf', 'C': 11}           0.966667   \n",
       "1       1   {'kernel': 'linear', 'C': 1}           0.966667   \n",
       "2      66  {'kernel': 'linear', 'C': 66}           1.000000   \n",
       "3       6   {'kernel': 'linear', 'C': 6}           1.000000   \n",
       "4      71  {'kernel': 'linear', 'C': 71}           1.000000   \n",
       "\n",
       "   split1_test_score  split2_test_score  split3_test_score  split4_test_score  \\\n",
       "0                1.0           0.966667           0.966667                1.0   \n",
       "1                1.0           0.966667           0.966667                1.0   \n",
       "2                1.0           0.900000           0.933333                1.0   \n",
       "3                1.0           0.900000           0.966667                1.0   \n",
       "4                1.0           0.900000           0.933333                1.0   \n",
       "\n",
       "   mean_test_score  std_test_score  rank_test_score  \n",
       "0         0.980000        0.016330                1  \n",
       "1         0.980000        0.016330                1  \n",
       "2         0.966667        0.042164                9  \n",
       "3         0.973333        0.038873                5  \n",
       "4         0.966667        0.042164                9  "
      ]
     },
     "execution_count": 16,
     "metadata": {},
     "output_type": "execute_result"
    }
   ],
   "source": [
    "df.head()"
   ]
  },
  {
   "cell_type": "code",
   "execution_count": 18,
   "id": "c66fd49d",
   "metadata": {},
   "outputs": [
    {
     "data": {
      "text/html": [
       "<div>\n",
       "<style scoped>\n",
       "    .dataframe tbody tr th:only-of-type {\n",
       "        vertical-align: middle;\n",
       "    }\n",
       "\n",
       "    .dataframe tbody tr th {\n",
       "        vertical-align: top;\n",
       "    }\n",
       "\n",
       "    .dataframe thead th {\n",
       "        text-align: right;\n",
       "    }\n",
       "</style>\n",
       "<table border=\"1\" class=\"dataframe\">\n",
       "  <thead>\n",
       "    <tr style=\"text-align: right;\">\n",
       "      <th></th>\n",
       "      <th>param_C</th>\n",
       "      <th>param_kernel</th>\n",
       "      <th>mean_test_score</th>\n",
       "    </tr>\n",
       "  </thead>\n",
       "  <tbody>\n",
       "    <tr>\n",
       "      <th>0</th>\n",
       "      <td>11</td>\n",
       "      <td>rbf</td>\n",
       "      <td>0.980000</td>\n",
       "    </tr>\n",
       "    <tr>\n",
       "      <th>1</th>\n",
       "      <td>1</td>\n",
       "      <td>linear</td>\n",
       "      <td>0.980000</td>\n",
       "    </tr>\n",
       "    <tr>\n",
       "      <th>2</th>\n",
       "      <td>66</td>\n",
       "      <td>linear</td>\n",
       "      <td>0.966667</td>\n",
       "    </tr>\n",
       "    <tr>\n",
       "      <th>3</th>\n",
       "      <td>6</td>\n",
       "      <td>linear</td>\n",
       "      <td>0.973333</td>\n",
       "    </tr>\n",
       "    <tr>\n",
       "      <th>4</th>\n",
       "      <td>71</td>\n",
       "      <td>linear</td>\n",
       "      <td>0.966667</td>\n",
       "    </tr>\n",
       "  </tbody>\n",
       "</table>\n",
       "</div>"
      ],
      "text/plain": [
       "  param_C param_kernel  mean_test_score\n",
       "0      11          rbf         0.980000\n",
       "1       1       linear         0.980000\n",
       "2      66       linear         0.966667\n",
       "3       6       linear         0.973333\n",
       "4      71       linear         0.966667"
      ]
     },
     "execution_count": 18,
     "metadata": {},
     "output_type": "execute_result"
    }
   ],
   "source": [
    "df[['param_C','param_kernel','mean_test_score']].head()"
   ]
  },
  {
   "cell_type": "code",
   "execution_count": 19,
   "id": "54e0377e",
   "metadata": {},
   "outputs": [
    {
     "data": {
      "text/plain": [
       "{'kernel': 'rbf', 'C': 11}"
      ]
     },
     "execution_count": 19,
     "metadata": {},
     "output_type": "execute_result"
    }
   ],
   "source": [
    "RSCV.best_params_"
   ]
  },
  {
   "cell_type": "code",
   "execution_count": 20,
   "id": "962b20c1",
   "metadata": {},
   "outputs": [
    {
     "data": {
      "text/plain": [
       "0.9800000000000001"
      ]
     },
     "execution_count": 20,
     "metadata": {},
     "output_type": "execute_result"
    }
   ],
   "source": [
    "RSCV.best_score_"
   ]
  },
  {
   "cell_type": "code",
   "execution_count": 21,
   "id": "82bb7d80",
   "metadata": {},
   "outputs": [
    {
     "data": {
      "text/plain": [
       "['__abstractmethods__',\n",
       " '__class__',\n",
       " '__delattr__',\n",
       " '__dict__',\n",
       " '__dir__',\n",
       " '__doc__',\n",
       " '__eq__',\n",
       " '__format__',\n",
       " '__ge__',\n",
       " '__getattribute__',\n",
       " '__getstate__',\n",
       " '__gt__',\n",
       " '__hash__',\n",
       " '__init__',\n",
       " '__init_subclass__',\n",
       " '__le__',\n",
       " '__lt__',\n",
       " '__module__',\n",
       " '__ne__',\n",
       " '__new__',\n",
       " '__reduce__',\n",
       " '__reduce_ex__',\n",
       " '__repr__',\n",
       " '__setattr__',\n",
       " '__setstate__',\n",
       " '__sizeof__',\n",
       " '__str__',\n",
       " '__subclasshook__',\n",
       " '__weakref__',\n",
       " '_abc_impl',\n",
       " '_check_feature_names',\n",
       " '_check_n_features',\n",
       " '_check_refit_for_multimetric',\n",
       " '_estimator_type',\n",
       " '_format_results',\n",
       " '_get_param_names',\n",
       " '_get_tags',\n",
       " '_more_tags',\n",
       " '_repr_html_',\n",
       " '_repr_html_inner',\n",
       " '_repr_mimebundle_',\n",
       " '_required_parameters',\n",
       " '_run_search',\n",
       " '_select_best_index',\n",
       " '_validate_data',\n",
       " '_validate_params',\n",
       " 'best_estimator_',\n",
       " 'best_index_',\n",
       " 'best_params_',\n",
       " 'best_score_',\n",
       " 'classes_',\n",
       " 'cv',\n",
       " 'cv_results_',\n",
       " 'decision_function',\n",
       " 'error_score',\n",
       " 'estimator',\n",
       " 'fit',\n",
       " 'get_params',\n",
       " 'inverse_transform',\n",
       " 'multimetric_',\n",
       " 'n_features_in_',\n",
       " 'n_iter',\n",
       " 'n_jobs',\n",
       " 'n_splits_',\n",
       " 'param_distributions',\n",
       " 'pre_dispatch',\n",
       " 'predict',\n",
       " 'predict_log_proba',\n",
       " 'predict_proba',\n",
       " 'random_state',\n",
       " 'refit',\n",
       " 'refit_time_',\n",
       " 'return_train_score',\n",
       " 'score',\n",
       " 'score_samples',\n",
       " 'scorer_',\n",
       " 'scoring',\n",
       " 'set_params',\n",
       " 'transform',\n",
       " 'verbose']"
      ]
     },
     "execution_count": 21,
     "metadata": {},
     "output_type": "execute_result"
    }
   ],
   "source": [
    "dir(RSCV)"
   ]
  },
  {
   "cell_type": "code",
   "execution_count": null,
   "id": "8f1acc54",
   "metadata": {},
   "outputs": [],
   "source": []
  }
 ],
 "metadata": {
  "kernelspec": {
   "display_name": "Python 3 (ipykernel)",
   "language": "python",
   "name": "python3"
  },
  "language_info": {
   "codemirror_mode": {
    "name": "ipython",
    "version": 3
   },
   "file_extension": ".py",
   "mimetype": "text/x-python",
   "name": "python",
   "nbconvert_exporter": "python",
   "pygments_lexer": "ipython3",
   "version": "3.11.3"
  }
 },
 "nbformat": 4,
 "nbformat_minor": 5
}
